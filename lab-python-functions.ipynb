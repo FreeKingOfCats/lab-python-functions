{
 "cells": [
  {
   "cell_type": "markdown",
   "id": "25d7736c-ba17-4aff-b6bb-66eba20fbf4e",
   "metadata": {},
   "source": [
    "# Lab | Functions"
   ]
  },
  {
   "cell_type": "markdown",
   "id": "0c581062-8967-4d93-b06e-62833222f930",
   "metadata": {
    "tags": []
   },
   "source": [
    "## Exercise: Managing Customer Orders with Functions\n",
    "\n",
    "In the previous exercise, you improved the code for managing customer orders by using loops and flow control. Now, let's take it a step further and refactor the code by introducing functions.\n",
    "\n",
    "Follow the steps below to complete the exercise:\n",
    "\n",
    "1. Define a function named `initialize_inventory` that takes `products` as a parameter. Inside the function, implement the code for initializing the inventory dictionary using a loop and user input.\n",
    "\n",
    "2. Define a function named `get_customer_orders` that takes no parameters. Inside the function, implement the code for prompting the user to enter the product names using a loop. The function should return the `customer_orders` set.\n",
    "\n",
    "3. Define a function named `update_inventory` that takes `customer_orders` and `inventory` as parameters. Inside the function, implement the code for updating the inventory dictionary based on the customer orders.\n",
    "\n",
    "4. Define a function named `calculate_order_statistics` that takes `customer_orders` and `products` as parameters. Inside the function, implement the code for calculating the order statistics (total products ordered, and percentage of unique products ordered). The function should return these values.\n",
    "\n",
    "5. Define a function named `print_order_statistics` that takes `order_statistics` as a parameter. Inside the function, implement the code for printing the order statistics.\n",
    "\n",
    "6. Define a function named `print_updated_inventory` that takes `inventory` as a parameter. Inside the function, implement the code for printing the updated inventory.\n",
    "\n",
    "7. Call the functions in the appropriate sequence to execute the program and manage customer orders.\n",
    "\n",
    "Hints for functions:\n",
    "\n",
    "- Consider the input parameters required for each function and their return values.\n",
    "- Utilize function parameters and return values to transfer data between functions.\n",
    "- Test your functions individually to ensure they work correctly.\n",
    "\n",
    "\n"
   ]
  },
  {
   "cell_type": "code",
   "execution_count": 15,
   "id": "0accc40c-ba2f-438c-9eeb-6b244a40ac88",
   "metadata": {},
   "outputs": [
    {
     "name": "stdin",
     "output_type": "stream",
     "text": [
      "Please, introduce a quantity for t-shirt:  6\n",
      "Please, introduce a quantity for mug:  8\n",
      "Please, introduce a quantity for hat:  5\n",
      "Please, introduce a quantity for book:  7\n",
      "Please, introduce a quantity for keychain:  8\n",
      "Write the product you need (or write 'no' to end):  book\n",
      "Write the product you need (or write 'no' to end):  book\n",
      "Write the product you need (or write 'no' to end):  hat\n",
      "Write the product you need (or write 'no' to end):  hat\n",
      "Write the product you need (or write 'no' to end):  hat\n",
      "Write the product you need (or write 'no' to end):  no\n"
     ]
    },
    {
     "name": "stdout",
     "output_type": "stream",
     "text": [
      "Order Statistics:\n",
      "Total Products Ordered:  2\n",
      "Percentage of Products Ordered:  40.0 %\n",
      "Updated Inventory:\n",
      "t-shirt: 6\n",
      "mug: 8\n",
      "hat: 4\n",
      "book: 6\n",
      "keychain: 8\n"
     ]
    }
   ],
   "source": [
    "\n",
    "def initialize_inventory(products):\n",
    "    inventory = {}\n",
    "    for product in products:\n",
    "        quantity = int(input(f\"Please, introduce a quantity for {product}: \"))\n",
    "        inventory[product] = quantity\n",
    "    return inventory\n",
    "\n",
    "def get_customer_orders():\n",
    "    products = [\"t-shirt\", \"mug\", \"hat\", \"book\", \"keychain\"]\n",
    "    customer_orders = set()\n",
    "    while True:\n",
    "        selected_product = input(\"Write the product you need (or write 'no' to end): \").strip()\n",
    "        if selected_product == 'no':\n",
    "            break\n",
    "        elif selected_product in products:\n",
    "            customer_orders.add(selected_product)\n",
    "        else:\n",
    "            print(\"Wrong product, please write a correct one or write 'no' to finish ordering\")\n",
    "    return customer_orders\n",
    "\n",
    "def update_inventory(customer_orders, inventory):\n",
    "    for product in customer_orders:\n",
    "        if inventory[product] > 0:\n",
    "            inventory[product] -= 1\n",
    "        else:\n",
    "            print(f\"There is no more stock of this product: {product}\")\n",
    "\n",
    "def calculate_order_statistics(customer_orders, products):\n",
    "    total_orders = len(customer_orders)\n",
    "    total_products = len(products)\n",
    "    percentage = (total_orders * 100) / total_products\n",
    "    return total_orders, percentage\n",
    "\n",
    "def print_order_statistics(order_statistics):\n",
    "    total_orders, percentage = order_statistics\n",
    "    print(\"Order Statistics:\")\n",
    "    print(\"Total Products Ordered: \", total_orders)\n",
    "    print(\"Percentage of Products Ordered: \", percentage, \"%\")\n",
    "\n",
    "def print_updated_inventory(inventory):\n",
    "    print(\"Updated Inventory:\")\n",
    "    for product, quantity in inventory.items():\n",
    "        print(f\"{product}: {quantity}\")\n",
    "\n",
    "def main():\n",
    "    products = [\"t-shirt\", \"mug\", \"hat\", \"book\", \"keychain\"]\n",
    "    inventory = initialize_inventory(products)\n",
    "    customer_orders = get_customer_orders()\n",
    "    update_inventory(customer_orders, inventory)\n",
    "    order_statistics = calculate_order_statistics(customer_orders, products)\n",
    "    print_order_statistics(order_statistics)\n",
    "    print_updated_inventory(inventory)\n",
    "\n",
    "if __name__ == \"__main__\":\n",
    "    main()"
   ]
  },
  {
   "cell_type": "code",
   "execution_count": null,
   "id": "a4fc5d5c-022a-4160-846c-71adaee26d87",
   "metadata": {},
   "outputs": [],
   "source": []
  }
 ],
 "metadata": {
  "kernelspec": {
   "display_name": "Python 3 (ipykernel)",
   "language": "python",
   "name": "python3"
  },
  "language_info": {
   "codemirror_mode": {
    "name": "ipython",
    "version": 3
   },
   "file_extension": ".py",
   "mimetype": "text/x-python",
   "name": "python",
   "nbconvert_exporter": "python",
   "pygments_lexer": "ipython3",
   "version": "3.12.7"
  }
 },
 "nbformat": 4,
 "nbformat_minor": 5
}
